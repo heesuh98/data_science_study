{
 "cells": [
  {
   "cell_type": "code",
   "execution_count": 11,
   "metadata": {},
   "outputs": [
    {
     "data": {
      "text/plain": [
       "sys.version_info(major=3, minor=7, micro=6, releaselevel='final', serial=0)"
      ]
     },
     "execution_count": 11,
     "metadata": {},
     "output_type": "execute_result"
    }
   ],
   "source": [
    "import sys\n",
    "sys.version_info\n",
    "\n",
    "\n"
   ]
  },
  {
   "cell_type": "code",
   "execution_count": 20,
   "metadata": {},
   "outputs": [
    {
     "name": "stdout",
     "output_type": "stream",
     "text": [
      "<class 'dict'>\n"
     ]
    }
   ],
   "source": [
    "var = 100 \n",
    "globals()\n",
    "print(type(globals()))"
   ]
  },
  {
   "cell_type": "code",
   "execution_count": 18,
   "metadata": {},
   "outputs": [
    {
     "data": {
      "text/plain": [
       "100"
      ]
     },
     "execution_count": 18,
     "metadata": {},
     "output_type": "execute_result"
    }
   ],
   "source": [
    "globals()['var']"
   ]
  },
  {
   "cell_type": "code",
   "execution_count": 12,
   "metadata": {},
   "outputs": [
    {
     "data": {
      "text/plain": [
       "'1.18.1'"
      ]
     },
     "execution_count": 12,
     "metadata": {},
     "output_type": "execute_result"
    }
   ],
   "source": [
    "import numpy as np\n",
    "np.__version__"
   ]
  },
  {
   "cell_type": "code",
   "execution_count": 13,
   "metadata": {},
   "outputs": [
    {
     "data": {
      "text/plain": [
       "'3.1.3'"
      ]
     },
     "execution_count": 13,
     "metadata": {},
     "output_type": "execute_result"
    }
   ],
   "source": [
    "import matplotlib as mpl\n",
    "mpl.__version__"
   ]
  },
  {
   "cell_type": "code",
   "execution_count": 14,
   "metadata": {},
   "outputs": [
    {
     "data": {
      "text/plain": [
       "'0.22.1'"
      ]
     },
     "execution_count": 14,
     "metadata": {},
     "output_type": "execute_result"
    }
   ],
   "source": [
    "import sklearn as sk\n",
    "sk.__version__"
   ]
  },
  {
   "cell_type": "code",
   "execution_count": 23,
   "metadata": {},
   "outputs": [
    {
     "data": {
      "text/plain": [
       "{'__name__': '__main__',\n",
       " '__doc__': 'Automatically created module for IPython interactive environment',\n",
       " '__package__': None,\n",
       " '__loader__': None,\n",
       " '__spec__': None,\n",
       " '__builtin__': <module 'builtins' (built-in)>,\n",
       " '__builtins__': <module 'builtins' (built-in)>,\n",
       " '_ih': ['',\n",
       "  \"var =100 #변수 var에 정수 100 할당\\n\\ngloblas()['var']\",\n",
       "  \"globlas()['var']\",\n",
       "  'var =100 #변수 var에 정수 100 할당',\n",
       "  \"var =100 #변수 var에 정수 100 할당\\n\\ngloblas()['var']\",\n",
       "  \"import sys\\nvar =100 #변수 var에 정수 100 할당\\n\\ngloblas()['var']\",\n",
       "  \"import sys\\n\\nvar =100 #변수 var에 정수 100 할당\\n\\ngloblas()['var']\",\n",
       "  \"import sys\\nsys. version_info\\n\\nvar =100 #변수 var에 정수 100 할당\\n\\ngloblas()['var']\",\n",
       "  'import sys\\nsys. version_info\\n\\nvar =100 #변수 var에 정수 100 할당',\n",
       "  'import sys\\nsys.version_info\\n\\nvar =100 #변수 var에 정수 100 할당',\n",
       "  'import sys\\nsys.version_info\\n\\nvar =100 #변수 var에 정수 100 할당',\n",
       "  'import sys\\nsys.version_info',\n",
       "  'import numpy as np\\nnp.__version__',\n",
       "  'import matplotlib as mpl\\nmpl.__version__',\n",
       "  'import sklearn as sk\\nsk.__version__',\n",
       "  \"var = 100 #변수 var에 정수 100 할당\\n\\ngloblas()['var']\",\n",
       "  \"var = 100 \\n\\ngloblas()['var']\",\n",
       "  'var = 100 ',\n",
       "  \"globals()['var']\",\n",
       "  'var = 100 \\nglobals()',\n",
       "  'var = 100 \\nglobals()\\nprint(type(globals()))',\n",
       "  \"s = '문자열'\",\n",
       "  \"globals()['s']\",\n",
       "  \"s = '문자열'\\nglobals()\"],\n",
       " '_oh': {11: sys.version_info(major=3, minor=7, micro=6, releaselevel='final', serial=0),\n",
       "  12: '1.18.1',\n",
       "  13: '3.1.3',\n",
       "  14: '0.22.1',\n",
       "  18: 100,\n",
       "  19: {...},\n",
       "  22: '문자열'},\n",
       " '_dh': ['C:\\\\Users\\\\user\\\\Documents\\\\Python_study'],\n",
       " 'In': ['',\n",
       "  \"var =100 #변수 var에 정수 100 할당\\n\\ngloblas()['var']\",\n",
       "  \"globlas()['var']\",\n",
       "  'var =100 #변수 var에 정수 100 할당',\n",
       "  \"var =100 #변수 var에 정수 100 할당\\n\\ngloblas()['var']\",\n",
       "  \"import sys\\nvar =100 #변수 var에 정수 100 할당\\n\\ngloblas()['var']\",\n",
       "  \"import sys\\n\\nvar =100 #변수 var에 정수 100 할당\\n\\ngloblas()['var']\",\n",
       "  \"import sys\\nsys. version_info\\n\\nvar =100 #변수 var에 정수 100 할당\\n\\ngloblas()['var']\",\n",
       "  'import sys\\nsys. version_info\\n\\nvar =100 #변수 var에 정수 100 할당',\n",
       "  'import sys\\nsys.version_info\\n\\nvar =100 #변수 var에 정수 100 할당',\n",
       "  'import sys\\nsys.version_info\\n\\nvar =100 #변수 var에 정수 100 할당',\n",
       "  'import sys\\nsys.version_info',\n",
       "  'import numpy as np\\nnp.__version__',\n",
       "  'import matplotlib as mpl\\nmpl.__version__',\n",
       "  'import sklearn as sk\\nsk.__version__',\n",
       "  \"var = 100 #변수 var에 정수 100 할당\\n\\ngloblas()['var']\",\n",
       "  \"var = 100 \\n\\ngloblas()['var']\",\n",
       "  'var = 100 ',\n",
       "  \"globals()['var']\",\n",
       "  'var = 100 \\nglobals()',\n",
       "  'var = 100 \\nglobals()\\nprint(type(globals()))',\n",
       "  \"s = '문자열'\",\n",
       "  \"globals()['s']\",\n",
       "  \"s = '문자열'\\nglobals()\"],\n",
       " 'Out': {11: sys.version_info(major=3, minor=7, micro=6, releaselevel='final', serial=0),\n",
       "  12: '1.18.1',\n",
       "  13: '3.1.3',\n",
       "  14: '0.22.1',\n",
       "  18: 100,\n",
       "  19: {...},\n",
       "  22: '문자열'},\n",
       " 'get_ipython': <bound method InteractiveShell.get_ipython of <ipykernel.zmqshell.ZMQInteractiveShell object at 0x000001E42A916948>>,\n",
       " 'exit': <IPython.core.autocall.ZMQExitAutocall at 0x1e42a9b5988>,\n",
       " 'quit': <IPython.core.autocall.ZMQExitAutocall at 0x1e42a9b5988>,\n",
       " '_': '문자열',\n",
       " '__': {...},\n",
       " '___': 100,\n",
       " '_i': \"globals()['s']\",\n",
       " '_ii': \"s = '문자열'\",\n",
       " '_iii': 'var = 100 \\nglobals()\\nprint(type(globals()))',\n",
       " '_i1': \"var =100 #변수 var에 정수 100 할당\\n\\ngloblas()['var']\",\n",
       " 'var': 100,\n",
       " '_i2': \"globlas()['var']\",\n",
       " '_i3': 'var =100 #변수 var에 정수 100 할당',\n",
       " '_i4': \"var =100 #변수 var에 정수 100 할당\\n\\ngloblas()['var']\",\n",
       " '_i5': \"import sys\\nvar =100 #변수 var에 정수 100 할당\\n\\ngloblas()['var']\",\n",
       " 'sys': <module 'sys' (built-in)>,\n",
       " '_i6': \"import sys\\n\\nvar =100 #변수 var에 정수 100 할당\\n\\ngloblas()['var']\",\n",
       " '_i7': \"import sys\\nsys. version_info\\n\\nvar =100 #변수 var에 정수 100 할당\\n\\ngloblas()['var']\",\n",
       " '_i8': 'import sys\\nsys. version_info\\n\\nvar =100 #변수 var에 정수 100 할당',\n",
       " '_i9': 'import sys\\nsys.version_info\\n\\nvar =100 #변수 var에 정수 100 할당',\n",
       " '_i10': 'import sys\\nsys.version_info\\n\\nvar =100 #변수 var에 정수 100 할당',\n",
       " '_i11': 'import sys\\nsys.version_info',\n",
       " '_11': sys.version_info(major=3, minor=7, micro=6, releaselevel='final', serial=0),\n",
       " '_i12': 'import numpy as np\\nnp.__version__',\n",
       " 'np': <module 'numpy' from 'C:\\\\Users\\\\user\\\\anaconda3\\\\lib\\\\site-packages\\\\numpy\\\\__init__.py'>,\n",
       " '_12': '1.18.1',\n",
       " '_i13': 'import matplotlib as mpl\\nmpl.__version__',\n",
       " 'mpl': <module 'matplotlib' from 'C:\\\\Users\\\\user\\\\anaconda3\\\\lib\\\\site-packages\\\\matplotlib\\\\__init__.py'>,\n",
       " '_13': '3.1.3',\n",
       " '_i14': 'import sklearn as sk\\nsk.__version__',\n",
       " 'sk': <module 'sklearn' from 'C:\\\\Users\\\\user\\\\anaconda3\\\\lib\\\\site-packages\\\\sklearn\\\\__init__.py'>,\n",
       " '_14': '0.22.1',\n",
       " '_i15': \"var = 100 #변수 var에 정수 100 할당\\n\\ngloblas()['var']\",\n",
       " '_i16': \"var = 100 \\n\\ngloblas()['var']\",\n",
       " '_i17': 'var = 100 ',\n",
       " '_i18': \"globals()['var']\",\n",
       " '_18': 100,\n",
       " '_i19': 'var = 100 \\nglobals()',\n",
       " '_19': {...},\n",
       " '_i20': 'var = 100 \\nglobals()\\nprint(type(globals()))',\n",
       " '_i21': \"s = '문자열'\",\n",
       " 's': '문자열',\n",
       " '_i22': \"globals()['s']\",\n",
       " '_22': '문자열',\n",
       " '_i23': \"s = '문자열'\\nglobals()\"}"
      ]
     },
     "execution_count": 23,
     "metadata": {},
     "output_type": "execute_result"
    }
   ],
   "source": [
    "s = '문자열'\n",
    "globals()"
   ]
  },
  {
   "cell_type": "code",
   "execution_count": 22,
   "metadata": {},
   "outputs": [
    {
     "data": {
      "text/plain": [
       "'문자열'"
      ]
     },
     "execution_count": 22,
     "metadata": {},
     "output_type": "execute_result"
    }
   ],
   "source": [
    "globals()['s']\n"
   ]
  },
  {
   "cell_type": "code",
   "execution_count": 24,
   "metadata": {},
   "outputs": [
    {
     "ename": "NameError",
     "evalue": "name 'x' is not defined",
     "output_type": "error",
     "traceback": [
      "\u001b[1;31m---------------------------------------------------------------------------\u001b[0m",
      "\u001b[1;31mNameError\u001b[0m                                 Traceback (most recent call last)",
      "\u001b[1;32m<ipython-input-24-c2a4b9157221>\u001b[0m in \u001b[0;36m<module>\u001b[1;34m\u001b[0m\n\u001b[0;32m      1\u001b[0m \u001b[0mx\u001b[0m \u001b[1;33m:\u001b[0m \u001b[0mint\u001b[0m\u001b[1;33m\u001b[0m\u001b[1;33m\u001b[0m\u001b[0m\n\u001b[0;32m      2\u001b[0m \u001b[1;33m\u001b[0m\u001b[0m\n\u001b[1;32m----> 3\u001b[1;33m \u001b[0mx\u001b[0m\u001b[1;33m\u001b[0m\u001b[1;33m\u001b[0m\u001b[0m\n\u001b[0m",
      "\u001b[1;31mNameError\u001b[0m: name 'x' is not defined"
     ]
    }
   ],
   "source": [
    "x : int\n",
    "    \n",
    "x"
   ]
  },
  {
   "cell_type": "code",
   "execution_count": 25,
   "metadata": {},
   "outputs": [
    {
     "name": "stdout",
     "output_type": "stream",
     "text": [
      "100\n"
     ]
    }
   ],
   "source": [
    "x = 100\n",
    "\n",
    "print(x)"
   ]
  },
  {
   "cell_type": "code",
   "execution_count": 26,
   "metadata": {},
   "outputs": [
    {
     "name": "stdout",
     "output_type": "stream",
     "text": [
      "100\n"
     ]
    }
   ],
   "source": [
    "print(globals()['x'])"
   ]
  },
  {
   "cell_type": "code",
   "execution_count": 28,
   "metadata": {},
   "outputs": [
    {
     "name": "stdout",
     "output_type": "stream",
     "text": [
      "참입니다\n"
     ]
    }
   ],
   "source": [
    "if 10>5:\n",
    "    print(\"참입니다\")\n",
    "    "
   ]
  },
  {
   "cell_type": "code",
   "execution_count": 29,
   "metadata": {},
   "outputs": [
    {
     "name": "stdout",
     "output_type": "stream",
     "text": [
      "거짓입니다\n"
     ]
    }
   ],
   "source": [
    "if 10 < 5:\n",
    "    print(\"참입니다\")\n",
    "else:\n",
    "    print(\"거짓입니다\")"
   ]
  },
  {
   "cell_type": "code",
   "execution_count": 30,
   "metadata": {},
   "outputs": [
    {
     "name": "stdout",
     "output_type": "stream",
     "text": [
      "거짓입니다\n"
     ]
    }
   ],
   "source": [
    "print(\"참입니다\") if 10 < 5 else print(\"거짓입니다\")"
   ]
  },
  {
   "cell_type": "code",
   "execution_count": 31,
   "metadata": {},
   "outputs": [
    {
     "name": "stdout",
     "output_type": "stream",
     "text": [
      "1\n",
      "2\n",
      "3\n",
      "4\n",
      "10\n"
     ]
    }
   ],
   "source": [
    "result = 0\n",
    "for i in range(1,5):\n",
    "    print(i)\n",
    "    result += i\n",
    "print(result)"
   ]
  },
  {
   "cell_type": "code",
   "execution_count": 32,
   "metadata": {},
   "outputs": [
    {
     "name": "stdout",
     "output_type": "stream",
     "text": [
      "10\n"
     ]
    }
   ],
   "source": [
    "result = 0\n",
    "i = 1\n",
    "while i < 5 :\n",
    "    result += i\n",
    "    i += 1\n",
    "    \n",
    "print(result)"
   ]
  },
  {
   "cell_type": "code",
   "execution_count": 33,
   "metadata": {},
   "outputs": [],
   "source": [
    "def func(x):\n",
    "    return x\n"
   ]
  },
  {
   "cell_type": "code",
   "execution_count": 34,
   "metadata": {},
   "outputs": [
    {
     "data": {
      "text/plain": [
       "100"
      ]
     },
     "execution_count": 34,
     "metadata": {},
     "output_type": "execute_result"
    }
   ],
   "source": [
    "func(100)"
   ]
  },
  {
   "cell_type": "code",
   "execution_count": 36,
   "metadata": {},
   "outputs": [
    {
     "name": "stdout",
     "output_type": "stream",
     "text": [
      "100\n"
     ]
    }
   ],
   "source": [
    "x=func(100)\n",
    "print(x)\n"
   ]
  },
  {
   "cell_type": "code",
   "execution_count": 37,
   "metadata": {},
   "outputs": [
    {
     "data": {
      "text/plain": [
       "<function __main__.func(x)>"
      ]
     },
     "execution_count": 37,
     "metadata": {},
     "output_type": "execute_result"
    }
   ],
   "source": [
    "globals()['func']"
   ]
  },
  {
   "cell_type": "code",
   "execution_count": 38,
   "metadata": {},
   "outputs": [
    {
     "data": {
      "text/plain": [
       "True"
      ]
     },
     "execution_count": 38,
     "metadata": {},
     "output_type": "execute_result"
    }
   ],
   "source": [
    "globals()['func'] is func"
   ]
  },
  {
   "cell_type": "code",
   "execution_count": 39,
   "metadata": {},
   "outputs": [],
   "source": [
    "def add(x,y):\n",
    "    return x+y"
   ]
  },
  {
   "cell_type": "code",
   "execution_count": 40,
   "metadata": {},
   "outputs": [
    {
     "data": {
      "text/plain": [
       "3"
      ]
     },
     "execution_count": 40,
     "metadata": {},
     "output_type": "execute_result"
    }
   ],
   "source": [
    "add(1,2)"
   ]
  },
  {
   "cell_type": "code",
   "execution_count": 41,
   "metadata": {},
   "outputs": [],
   "source": [
    "def arg(*args):\n",
    "    print(args)\n",
    "    return sum(args)"
   ]
  },
  {
   "cell_type": "code",
   "execution_count": 42,
   "metadata": {},
   "outputs": [
    {
     "name": "stdout",
     "output_type": "stream",
     "text": [
      "(1, 2, 3, 4, 5)\n"
     ]
    },
    {
     "data": {
      "text/plain": [
       "15"
      ]
     },
     "execution_count": 42,
     "metadata": {},
     "output_type": "execute_result"
    }
   ],
   "source": [
    "arg(1,2,3,4,5)"
   ]
  },
  {
   "cell_type": "code",
   "execution_count": 45,
   "metadata": {},
   "outputs": [],
   "source": [
    "def kwargs(**kwargs):\n",
    "    print(locals())\n",
    "    return kwargs"
   ]
  },
  {
   "cell_type": "code",
   "execution_count": 46,
   "metadata": {},
   "outputs": [
    {
     "name": "stdout",
     "output_type": "stream",
     "text": [
      "{'kwargs': {'x': 1, 'y': 2, 'z': 3}}\n"
     ]
    },
    {
     "data": {
      "text/plain": [
       "{'x': 1, 'y': 2, 'z': 3}"
      ]
     },
     "execution_count": 46,
     "metadata": {},
     "output_type": "execute_result"
    }
   ],
   "source": [
    "kwargs(x=1, y=2, z=3)"
   ]
  },
  {
   "cell_type": "code",
   "execution_count": 47,
   "metadata": {},
   "outputs": [],
   "source": [
    "*a,b =(1,2,3,4,5)"
   ]
  },
  {
   "cell_type": "code",
   "execution_count": 48,
   "metadata": {},
   "outputs": [
    {
     "name": "stdout",
     "output_type": "stream",
     "text": [
      "[1, 2, 3, 4]\n",
      "5\n"
     ]
    }
   ],
   "source": [
    "print(a)\n",
    "print(b)\n"
   ]
  },
  {
   "cell_type": "code",
   "execution_count": 49,
   "metadata": {},
   "outputs": [],
   "source": [
    "def var_kwargs(**kwargs):\n",
    "    print(kwargs)\n",
    "    return sum([*kwargs.values()])"
   ]
  },
  {
   "cell_type": "code",
   "execution_count": 50,
   "metadata": {},
   "outputs": [
    {
     "name": "stdout",
     "output_type": "stream",
     "text": [
      "{'a': 2, 'b': 1}\n"
     ]
    },
    {
     "data": {
      "text/plain": [
       "3"
      ]
     },
     "execution_count": 50,
     "metadata": {},
     "output_type": "execute_result"
    }
   ],
   "source": [
    "var_kwargs(a=2, b=1)"
   ]
  },
  {
   "cell_type": "code",
   "execution_count": 51,
   "metadata": {},
   "outputs": [],
   "source": [
    "def sum_args(*args, **kwargs):\n",
    "    print(args)\n",
    "    print(kwargs)\n",
    "    total = list(args) + [*kwargs.values()]\n",
    "    return sum(args)"
   ]
  },
  {
   "cell_type": "code",
   "execution_count": 53,
   "metadata": {},
   "outputs": [
    {
     "name": "stdout",
     "output_type": "stream",
     "text": [
      "(1, 2, 3, 4, 5, 6, 7, 8, 9)\n",
      "{'a': 2, 'b': 3}\n"
     ]
    },
    {
     "data": {
      "text/plain": [
       "45"
      ]
     },
     "execution_count": 53,
     "metadata": {},
     "output_type": "execute_result"
    }
   ],
   "source": [
    "sum_args(1,2,3,4,5,6,7,8,9,a=2,b=3)"
   ]
  },
  {
   "cell_type": "code",
   "execution_count": null,
   "metadata": {},
   "outputs": [],
   "source": []
  }
 ],
 "metadata": {
  "kernelspec": {
   "display_name": "Python 3",
   "language": "python",
   "name": "python3"
  },
  "language_info": {
   "codemirror_mode": {
    "name": "ipython",
    "version": 3
   },
   "file_extension": ".py",
   "mimetype": "text/x-python",
   "name": "python",
   "nbconvert_exporter": "python",
   "pygments_lexer": "ipython3",
   "version": "3.7.6"
  }
 },
 "nbformat": 4,
 "nbformat_minor": 4
}
